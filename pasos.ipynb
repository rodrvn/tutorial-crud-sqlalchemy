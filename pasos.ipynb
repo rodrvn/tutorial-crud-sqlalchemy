{
 "cells": [
  {
   "cell_type": "markdown",
   "metadata": {},
   "source": [
    "## Una Base de Datos\n",
    " es una colección organizada y estructurada de información que se almacena de manera persistente en un sistema informático. Su objetivo principal es permitir el acceso, manipulación y gestión eficiente de datos, facilitando así la recuperación y almacenamiento de información de manera coherente y segura."
   ]
  },
  {
   "cell_type": "markdown",
   "metadata": {},
   "source": [
    "- Se almacena en Tablas: filas y columnas. (Mostrar ejemplo en excel)"
   ]
  },
  {
   "cell_type": "markdown",
   "metadata": {},
   "source": [
    "Operaciones CRUD:\n",
    "\n",
    "    - Crear (CREATE): cómo agregar nuevos datos a una base de datos.\n",
    "    - Leer (READ): cómo recuperar información de una base de datos.\n",
    "    - Actualizar (UPDATE): cómo modificar registros existentes.\n",
    "    - Eliminar (DELETE): cómo eliminar datos de la base de datos."
   ]
  },
  {
   "cell_type": "markdown",
   "metadata": {},
   "source": [
    "# Paso 1\n",
    "\n",
    "- Quick start flask\n",
    "\n",
    "- instalar flask y flask-sqlalchemy\n",
    "\n",
    "- extension sqlite viewer"
   ]
  },
  {
   "cell_type": "code",
   "execution_count": null,
   "metadata": {},
   "outputs": [],
   "source": [
    "from flask import Flask, render_template, redirect\n",
    "from models import db, Alumno\n",
    "\n",
    "app = Flask(__name__)\n",
    "\n",
    "# configurar la base de datos SQLite\n",
    "app.config[\"SQLALCHEMY_DATABASE_URI\"] = \"sqlite:///database.sqlite3\"\n",
    "app.config['SQLALCHEMY_TRACK_MODIFICATIONS'] = False\n",
    "\n",
    "# Inicializamos la base de datos\n",
    "db.init_app(app)\n",
    "\n",
    "\n",
    "# Ruta para ver\n",
    "@app.route(\"/\")\n",
    "def index():\n",
    "    \n",
    "    return render_template('index.html')\n",
    "\n",
    "# Ruta para agregar\n",
    "\n",
    "# Ruta para eliminar\n",
    "\n",
    "\n",
    "## Breakpoint ##\n",
    "if __name__ == \"__main__\":\n",
    "    app.run (debug=True)"
   ]
  },
  {
   "cell_type": "markdown",
   "metadata": {},
   "source": [
    "\n",
    "# Paso 2\n",
    "- Ver que campos vamos a utilizar desde el frontend\n"
   ]
  },
  {
   "cell_type": "markdown",
   "metadata": {},
   "source": [
    "# Paso 3\n",
    "### Creamos un archivo donde vamos a colocar solamente el modelo de las tabla de nuestra base de datos y tambien instanciamos sqlalchemy\n",
    "\n",
    "En este caso: 'models.py'"
   ]
  },
  {
   "cell_type": "code",
   "execution_count": 1,
   "metadata": {},
   "outputs": [],
   "source": [
    "from flask_sqlalchemy import SQLAlchemy\n",
    "\n",
    "# Instanciamos SqlAlchemy\n",
    "db = SQLAlchemy()\n",
    "\n",
    "#Creamos nuestros modelos(Tablas)\n",
    "class Alumno(db.Model):\n",
    "    id_alumno = db.Column(db.Integer, primary_key=True)\n",
    "    nombre = db.Column(db.String)\n",
    "    apellido = db.Column(db.String)\n",
    "    edad = db.Column(db.Integer)\n",
    "    colegio = db.Column(db.String(50))\n"
   ]
  },
  {
   "cell_type": "markdown",
   "metadata": {},
   "source": [
    "# Paso 4\n",
    "### Creamos el archivo que va a crear la base de datos, se le suele llamar 'init_db' (Inicializar base de datos)\n"
   ]
  },
  {
   "cell_type": "code",
   "execution_count": 2,
   "metadata": {},
   "outputs": [],
   "source": [
    "from models import db, Alumno\n",
    "from flask import Flask\n",
    "\n",
    "app = Flask('app')\n",
    "\n",
    "# configurar la base de datos SQLite\n",
    "app.config[\"SQLALCHEMY_DATABASE_URI\"] = \"sqlite:///database.sqlite3\"\n",
    "app.config['SQLALCHEMY_TRACK_MODIFICATIONS'] = False\n",
    "\n",
    "# Inicializar la base de datos\n",
    "db.init_app(app)\n",
    "\n",
    "# Crear base de datoos\n",
    "with app.app_context():\n",
    "    db.create_all()"
   ]
  },
  {
   "cell_type": "markdown",
   "metadata": {},
   "source": [
    "## Para agregar datos a visualizar a la db\n"
   ]
  },
  {
   "cell_type": "code",
   "execution_count": null,
   "metadata": {},
   "outputs": [],
   "source": [
    "# Agregar datos\n",
    "with app.app_context():\n",
    "    alumno_agregar = Alumno(nombre='Rodrigo', apellido='Vallejos', edad='22', colegio='la calle')\n",
    "    db.session.add(alumno_agregar)\n",
    "    db.session.commit()"
   ]
  },
  {
   "cell_type": "markdown",
   "metadata": {},
   "source": [
    "# Paso 5\n",
    "- Abrimos la terminal\n",
    "- Ejecutamos el archivo donde tengamos la inicializacion de la db, en este caso \"init_db.py\", el comando es el siguiente\n",
    "\n",
    "- > python init_db.py\n",
    "\n",
    "- Esto crea una carpeta llamada 'instance' y dentro contiene el archivo de la base de datos\n"
   ]
  },
  {
   "cell_type": "markdown",
   "metadata": {},
   "source": [
    "# Paso 5\n",
    "## Volviendo a la app.py\n",
    "\n",
    "\n",
    "- Vistazo rapido de lo que queremos hacer\n"
   ]
  },
  {
   "cell_type": "code",
   "execution_count": 3,
   "metadata": {},
   "outputs": [],
   "source": [
    "# Ruta para ver\n",
    "\n",
    "# Ruta para agregar\n",
    "\n",
    "# Ruta para eliminar"
   ]
  },
  {
   "cell_type": "markdown",
   "metadata": {},
   "source": [
    "## Para ver los datos que tenemos en la db"
   ]
  },
  {
   "cell_type": "code",
   "execution_count": null,
   "metadata": {},
   "outputs": [],
   "source": [
    "@app.route(\"/\")\n",
    "def index():\n",
    "    # Query para traer todos los datos\n",
    "    alumnos = Alumno.query.all()\n",
    "    # Para imprimir los datos\n",
    "    for alumno in alumnos:\n",
    "        print(alumno.nombre)\n",
    "    \n",
    "    return render_template('index.html')"
   ]
  },
  {
   "cell_type": "markdown",
   "metadata": {},
   "source": [
    "# Para enviar los datos al front"
   ]
  },
  {
   "cell_type": "code",
   "execution_count": null,
   "metadata": {},
   "outputs": [],
   "source": [
    "# Ruta para ver\n",
    "@app.route(\"/\")\n",
    "def index():\n",
    "    # Query para traer todos los datos\n",
    "    alumnos = Alumno.query.all()\n",
    "    # Para imprimir los datos\n",
    "    for alumno in alumnos:\n",
    "        print(alumno.nombre)\n",
    "    \n",
    "    return render_template('index.html', alumnos=alumnos) #Enviamos mediante el return render_template"
   ]
  },
  {
   "cell_type": "markdown",
   "metadata": {},
   "source": [
    "# Codigo del front"
   ]
  },
  {
   "cell_type": "markdown",
   "metadata": {},
   "source": [
    "- Mostrar como llegan los datos al front con jinja\n",
    "\n",
    "- Nos fijamos en donde se agregar los datos y usamos jinja para iterar y mostrar los datos\n",
    "\n",
    "- Mostrar que hay que ubicar bien los bucles\n",
    "\n",
    "- Borrar los otros nombres para que sea automatizado"
   ]
  },
  {
   "cell_type": "code",
   "execution_count": null,
   "metadata": {
    "vscode": {
     "languageId": "html"
    }
   },
   "outputs": [],
   "source": [
    "<div>\n",
    "    {% for alumno in alumnos %}\n",
    "        \n",
    "    {{alumno.nombre}}\n",
    "    <div class=\"bg-white rounded-lg p-4 flex justify-between items-center mb-2\">\n",
    "        <span class=\"font-bold\">{{alumno.nombre}}</span>\n",
    "        <span class=\"text-gray-600\">{{alumno.apellido}}</span>\n",
    "        <span class=\"text-gray-600\">{{alumno.edad}} años</span>\n",
    "        <span class=\"text-gray-600\">{{alumno.colegio}}</span>\n",
    "        <button class=\"bg-red-500 hover:bg-red-700 text-white font-bold py-2 px-4 rounded\">\n",
    "            Eliminar\n",
    "        </button>\n",
    "    </div>\n",
    "    <!-- ELIMINAR DESDE ACA -->\n",
    "    <div class=\"bg-white rounded-lg p-4 flex justify-between items-center mb-2\">\n",
    "        <span class=\"font-bold\">Lujan</span>\n",
    "        <span class=\"text-gray-600\">Aranda</span>\n",
    "        <span class=\"text-gray-600\">15 años</span>\n",
    "        <span class=\"text-gray-600\">Colegio Juan Pablo II</span>\n",
    "        <button class=\"bg-red-500 hover:bg-red-700 text-white font-bold py-2 px-4 rounded\">\n",
    "            Eliminar\n",
    "        </button>\n",
    "    </div>\n",
    "    <div class=\"bg-white rounded-lg p-4 flex justify-between items-center mb-2\">\n",
    "        <span class=\"font-bold\">Cristhian</span>\n",
    "        <span class=\"text-gray-600\">Mallorquin</span>\n",
    "        <span class=\"text-gray-600\">16 años</span>\n",
    "        <span class=\"text-gray-600\">Colegio ni idea</span>\n",
    "        <button class=\"bg-red-500 hover:bg-red-700 text-white font-bold py-2 px-4 rounded\">\n",
    "            Eliminar\n",
    "        </button>\n",
    "    </div>\n",
    "    <!-- ACA -->\n",
    "    {% endfor %}\n",
    "</div>"
   ]
  },
  {
   "cell_type": "markdown",
   "metadata": {},
   "source": [
    "- Eliminamos esta parte del codigo ya esa parte es solo para mostrar como podria quedar, ya con los datos de la db va a ir creando solo el resto"
   ]
  },
  {
   "cell_type": "markdown",
   "metadata": {},
   "source": [
    "# Para agregar nuevos usuarios\n"
   ]
  },
  {
   "cell_type": "markdown",
   "metadata": {},
   "source": [
    "- Modificamos el form, hacemos que envie los datos a la ruta agregar_alumno e indicamos que el metodo es post ya que estamos enviando datos desde cliente a servidor"
   ]
  },
  {
   "cell_type": "code",
   "execution_count": null,
   "metadata": {
    "vscode": {
     "languageId": "html"
    }
   },
   "outputs": [],
   "source": [
    "<form class=\"mb-6\" action=\"{{ url_for('agregar_alumno' }}\", method=\"POST\">"
   ]
  },
  {
   "cell_type": "markdown",
   "metadata": {},
   "source": [
    "- le colocamos una etiqueta a los inputs llamada 'name' y le ponemos el nombre con el que queremos recibir los datos\n"
   ]
  },
  {
   "cell_type": "code",
   "execution_count": null,
   "metadata": {
    "vscode": {
     "languageId": "html"
    }
   },
   "outputs": [],
   "source": [
    "<form class=\"mb-6\" action=\"{{ url_for('agregar_nombre' }}\", method=\"POST\">\n",
    "    <div class=\"flex mb-4 gap-2\">\n",
    "        <input name=\"nombre\" type=\"text\" class=\"flex-1 rounded p-4\" placeholder=\"Nombre\">\n",
    "        <input name=\"apellido\" type=\"text\" class=\"flex-1 rounded p-4\" placeholder=\"Apellido\">\n",
    "        <input name=\"edad\" type=\"number\" class=\"flex-1 rounded p-4\" placeholder=\"Edad\">\n",
    "        <input name=\"colegio\" type=\"text\" class=\"flex-1 rounded p-4\" placeholder=\"Colegio\">\n",
    "    \n",
    "    </div>\n",
    "    <button type=\"submit\" class=\"bg-blue-500 hover:bg-blue-700 text-white font-bold py-2 px-4 rounded\">\n",
    "        Agregar Estudiante\n",
    "    </button>\n",
    "</form>"
   ]
  },
  {
   "cell_type": "markdown",
   "metadata": {},
   "source": [
    "- Creamos una nueva ruta\n",
    "\n",
    "- Lo primero que tenemos que hacer es recibir los datos del front\n"
   ]
  },
  {
   "cell_type": "code",
   "execution_count": null,
   "metadata": {},
   "outputs": [],
   "source": [
    "from flask import Flask, render_template, redirect, request, url_for\n",
    "from models import db, Alumno\n",
    "\n",
    "app = Flask(__name__)\n",
    "\n",
    "# configurar la base de datos SQLite\n",
    "app.config[\"SQLALCHEMY_DATABASE_URI\"] = \"sqlite:///database.sqlite3\"\n",
    "app.config['SQLALCHEMY_TRACK_MODIFICATIONS'] = False\n",
    "\n",
    "# Inicializamos la base de datos\n",
    "db.init_app(app)\n",
    "\n",
    "\n",
    "\n",
    "@app.route(\"/agregar_alumnos\", methods=[\"POST\"]) # Agregamos el metodo post porque estamos enviando datos desde el front\n",
    "def agregar_alumnos():\n",
    "\n",
    "    # Hacemos que funcione solo si envian datos\n",
    "    if request.method == 'POST':\n",
    "        # Guardamos los datos del front en variables en el backend\n",
    "        nombre = request.form['nombre']\n",
    "        apellido = request.form['apellido']\n",
    "        edad = request.form['edad']\n",
    "        colegio = request.form['colegio']\n",
    "        \n",
    "        # Hacemos print para saber que estan llegando los datos y una vez confirmado podemos seguir con el codigo\n",
    "        print(nombre, apellido, edad, colegio)\n",
    "\n",
    "        # Instanciamos alumno con los datos que queremos agregar\n",
    "        agregar_alumno = Alumno(nombre=nombre, apellido=apellido, edad=edad, colegio=colegio)\n",
    "        # Usamos un query para guardar en la db\n",
    "        db.session.add(agregar_alumno)\n",
    "        # Confirmamos el cambio\n",
    "        db.session.commit()\n",
    "\n",
    "    # Recargamos la pagina con redirect y url_for\n",
    "    return redirect(url_for('index'))\n"
   ]
  },
  {
   "cell_type": "markdown",
   "metadata": {},
   "source": [
    "# Darle funcionalidad a Eliminar\n"
   ]
  },
  {
   "cell_type": "markdown",
   "metadata": {},
   "source": [
    "- Creamos nueva ruta"
   ]
  },
  {
   "cell_type": "markdown",
   "metadata": {},
   "source": [
    "- Tenemos que recibir mediante el id del alumno\n",
    "- Filtramos segun el id"
   ]
  },
  {
   "cell_type": "code",
   "execution_count": null,
   "metadata": {},
   "outputs": [],
   "source": [
    "# Ruta para eliminar\n",
    "@app.route(\"/eliminar_alumno/<id_alumno>\", methods=[\"POST\", \"GET\"]) \n",
    "def eliminar_alumno(id_alumno):\n",
    "    # Filtramos el alumno que tenemos que eliminar segun su id\n",
    "    eliminar_alumno = Alumno.query.filter_by(id_alumno=id_alumno).first()\n",
    "\n",
    "    # Eliminaos con session.delete\n",
    "    db.session.delete(eliminar_alumno)\n",
    "    # confirmamos cambios en la base de datos\n",
    "    db.session.commit()\n",
    "    \n",
    "    return redirect(url_for('index'))\n"
   ]
  },
  {
   "cell_type": "markdown",
   "metadata": {},
   "source": [
    "# Para conectar al front"
   ]
  },
  {
   "cell_type": "code",
   "execution_count": null,
   "metadata": {
    "vscode": {
     "languageId": "html"
    }
   },
   "outputs": [],
   "source": [
    "<!--  Creamos una ancla dentro del boton para que al apretar eliminar redireccione a eliminar -->\n",
    "<a href=\"{{ url_for('eliminar_alumno', id_alumno=alumno.id_alumno) }}\">\n",
    "    Eliminar\n",
    "</a>"
   ]
  }
 ],
 "metadata": {
  "kernelspec": {
   "display_name": ".venv",
   "language": "python",
   "name": "python3"
  },
  "language_info": {
   "codemirror_mode": {
    "name": "ipython",
    "version": 3
   },
   "file_extension": ".py",
   "mimetype": "text/x-python",
   "name": "python",
   "nbconvert_exporter": "python",
   "pygments_lexer": "ipython3",
   "version": "3.11.4"
  },
  "orig_nbformat": 4
 },
 "nbformat": 4,
 "nbformat_minor": 2
}
